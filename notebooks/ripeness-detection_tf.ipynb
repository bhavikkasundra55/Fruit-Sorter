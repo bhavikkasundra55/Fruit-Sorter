{
 "cells": [
  {
   "cell_type": "code",
   "execution_count": null,
   "metadata": {
    "_cell_guid": "b1076dfc-b9ad-4769-8c92-a6c4dae69d19",
    "_uuid": "8f2839f25d086af736a60e9eeb907d3b93b6e0e5",
    "execution": {
     "iopub.execute_input": "2024-12-18T13:49:24.129272Z",
     "iopub.status.busy": "2024-12-18T13:49:24.128932Z",
     "iopub.status.idle": "2024-12-18T13:49:24.583229Z",
     "shell.execute_reply": "2024-12-18T13:49:24.582332Z",
     "shell.execute_reply.started": "2024-12-18T13:49:24.129241Z"
    },
    "trusted": true
   },
   "outputs": [],
   "source": [
    "# This Python 3 environment comes with many helpful analytics libraries installed\n",
    "# It is defined by the kaggle/python Docker image: https://github.com/kaggle/docker-python\n",
    "# For example, here's several helpful packages to load\n",
    "\n",
    "import numpy as np # linear algebra\n",
    "import pandas as pd # data processing, CSV file I/O (e.g. pd.read_csv)\n",
    "\n",
    "# Input data files are available in the read-only \"../input/\" directory\n",
    "# For example, running this (by clicking run or pressing Shift+Enter) will list all files under the input directory\n",
    "\n",
    "import os\n",
    "for dirname, _, filenames in os.walk('/kaggle/input'):\n",
    "    for filename in filenames:\n",
    "        print(os.path.join(dirname, filename))\n",
    "\n",
    "# You can write up to 20GB to the current directory (/kaggle/working/) that gets preserved as output when you create a version using \"Save & Run All\" \n",
    "# You can also write temporary files to /kaggle/temp/, but they won't be saved outside of the current session"
   ]
  },
  {
   "cell_type": "code",
   "execution_count": 6,
   "metadata": {
    "execution": {
     "iopub.execute_input": "2024-12-18T13:49:24.585641Z",
     "iopub.status.busy": "2024-12-18T13:49:24.584826Z",
     "iopub.status.idle": "2024-12-18T13:49:24.592809Z",
     "shell.execute_reply": "2024-12-18T13:49:24.592139Z",
     "shell.execute_reply.started": "2024-12-18T13:49:24.585601Z"
    },
    "trusted": true
   },
   "outputs": [],
   "source": [
    "import cv2\n",
    "import numpy as np\n",
    "import tensorflow as tf\n",
    "\n",
    "# Set the path to the directory and image name\n",
    "image_path = \"/kaggle/input/ripeness-detection-of-mango/Stage_0 (Unripe)/Test/IMG20200713145725.jpg\"\n",
    "\n",
    "# Preprocess the image\n",
    "def preprocess_image(image_path, target_size=(224, 224)):\n",
    "    # Load the image\n",
    "    image = cv2.imread(image_path)\n",
    "    # Resize to MobileNetV2 input size\n",
    "    image_resized = cv2.resize(image, target_size)\n",
    "    # Normalize to [0, 1]\n",
    "    image_normalized = image_resized / 255.0\n",
    "    # Add batch dimension\n",
    "    image_expanded = np.expand_dims(image_normalized, axis=0)\n",
    "    return image_expanded\n",
    "\n",
    "# Preprocess the input image\n",
    "input_image = preprocess_image(image_path)\n"
   ]
  },
  {
   "cell_type": "code",
   "execution_count": 7,
   "metadata": {
    "execution": {
     "iopub.execute_input": "2024-12-18T13:49:24.594188Z",
     "iopub.status.busy": "2024-12-18T13:49:24.593870Z",
     "iopub.status.idle": "2024-12-18T13:49:24.603246Z",
     "shell.execute_reply": "2024-12-18T13:49:24.602419Z",
     "shell.execute_reply.started": "2024-12-18T13:49:24.594154Z"
    },
    "trusted": true
   },
   "outputs": [],
   "source": [
    "import tensorflow as tf\n",
    "from tensorflow.keras.preprocessing.image import ImageDataGenerator\n",
    "from tensorflow.keras.applications import MobileNetV2\n",
    "from tensorflow.keras.models import Model\n",
    "from tensorflow.keras.layers import Dense, Flatten, GlobalAveragePooling2D\n",
    "import os\n",
    "import numpy as np\n",
    "import matplotlib.pyplot as plt\n"
   ]
  },
  {
   "cell_type": "code",
   "execution_count": 8,
   "metadata": {
    "execution": {
     "iopub.execute_input": "2024-12-18T13:49:24.605721Z",
     "iopub.status.busy": "2024-12-18T13:49:24.605289Z",
     "iopub.status.idle": "2024-12-18T13:49:24.617486Z",
     "shell.execute_reply": "2024-12-18T13:49:24.616787Z",
     "shell.execute_reply.started": "2024-12-18T13:49:24.605684Z"
    },
    "trusted": true
   },
   "outputs": [],
   "source": [
    "base_dir = '/kaggle/input/ripeness-detection-of-mango'\n",
    "\n",
    "# Define image dimensions and batch size\n",
    "IMG_SIZE = (224, 224)  # Required input size for MobileNetV2\n",
    "BATCH_SIZE = 32\n"
   ]
  },
  {
   "cell_type": "code",
   "execution_count": null,
   "metadata": {
    "execution": {
     "iopub.execute_input": "2024-12-18T13:49:24.618775Z",
     "iopub.status.busy": "2024-12-18T13:49:24.618459Z",
     "iopub.status.idle": "2024-12-18T13:49:24.677202Z",
     "shell.execute_reply": "2024-12-18T13:49:24.676634Z",
     "shell.execute_reply.started": "2024-12-18T13:49:24.618741Z"
    },
    "trusted": true
   },
   "outputs": [],
   "source": [
    "# Training data generator\n",
    "train_datagen = ImageDataGenerator(\n",
    "    rescale=1.0 / 255.0,  # Normalize pixel values\n",
    "    rotation_range=20,\n",
    "    width_shift_range=0.2,\n",
    "    height_shift_range=0.2,\n",
    "    shear_range=0.2,\n",
    "    zoom_range=0.2,\n",
    "    horizontal_flip=True,\n",
    "    validation_split=0.2  # 80-20 split for train-validation\n",
    ")\n",
    "\n",
    "# Training data loader\n",
    "train_generator = train_datagen.flow_from_directory(\n",
    "    base_dir,\n",
    "    target_size=IMG_SIZE,\n",
    "    batch_size=BATCH_SIZE,\n",
    "    class_mode='categorical',\n",
    "    subset='training'\n",
    ")\n",
    "\n",
    "# Validation data loader\n",
    "val_generator = train_datagen.flow_from_directory(\n",
    "    base_dir,\n",
    "    target_size=IMG_SIZE,\n",
    "    batch_size=BATCH_SIZE,\n",
    "    class_mode='categorical',\n",
    "    subset='validation'\n",
    ")\n"
   ]
  },
  {
   "cell_type": "code",
   "execution_count": null,
   "metadata": {
    "execution": {
     "iopub.execute_input": "2024-12-18T13:49:24.678491Z",
     "iopub.status.busy": "2024-12-18T13:49:24.678147Z",
     "iopub.status.idle": "2024-12-18T13:49:26.791708Z",
     "shell.execute_reply": "2024-12-18T13:49:26.790883Z",
     "shell.execute_reply.started": "2024-12-18T13:49:24.678455Z"
    },
    "trusted": true
   },
   "outputs": [],
   "source": [
    "# Load MobileNetV2 without the top layer\n",
    "base_model = MobileNetV2(weights='imagenet', include_top=False, input_shape=(224, 224, 3))\n",
    "\n",
    "# Freeze base model layers\n",
    "base_model.trainable = False\n",
    "\n",
    "# Add custom classification layers\n",
    "x = base_model.output\n",
    "x = GlobalAveragePooling2D()(x)\n",
    "x = Dense(128, activation='relu')(x)\n",
    "output_layer = Dense(train_generator.num_classes, activation='softmax')(x)\n",
    "\n",
    "# Define the model\n",
    "model = Model(inputs=base_model.input, outputs=output_layer)\n",
    "\n",
    "# Compile the model\n",
    "model.compile(optimizer='adam',\n",
    "              loss='categorical_crossentropy',\n",
    "              metrics=['accuracy'])\n",
    "\n",
    "# Display model summary\n",
    "model.summary()\n"
   ]
  },
  {
   "cell_type": "code",
   "execution_count": null,
   "metadata": {
    "execution": {
     "iopub.execute_input": "2024-12-18T13:49:26.792851Z",
     "iopub.status.busy": "2024-12-18T13:49:26.792608Z",
     "iopub.status.idle": "2024-12-18T13:52:13.054661Z",
     "shell.execute_reply": "2024-12-18T13:52:13.053840Z",
     "shell.execute_reply.started": "2024-12-18T13:49:26.792827Z"
    },
    "trusted": true
   },
   "outputs": [],
   "source": [
    "# Train the model\n",
    "history = model.fit(\n",
    "    train_generator,\n",
    "    validation_data=val_generator,\n",
    "    epochs=25,  # Start with fewer epochs to test\n",
    "    steps_per_epoch=train_generator.samples // BATCH_SIZE,\n",
    "    validation_steps=val_generator.samples // BATCH_SIZE\n",
    ")\n"
   ]
  },
  {
   "cell_type": "code",
   "execution_count": null,
   "metadata": {
    "execution": {
     "iopub.execute_input": "2024-12-18T13:52:13.061957Z",
     "iopub.status.busy": "2024-12-18T13:52:13.061401Z",
     "iopub.status.idle": "2024-12-18T13:52:16.115972Z",
     "shell.execute_reply": "2024-12-18T13:52:16.115289Z",
     "shell.execute_reply.started": "2024-12-18T13:52:13.061932Z"
    },
    "trusted": true
   },
   "outputs": [],
   "source": [
    "# Evaluate on validation data\n",
    "val_loss, val_acc = model.evaluate(val_generator)\n",
    "print(f\"Validation Accuracy: {val_acc * 100:.2f}%\")\n",
    "\n",
    "# Save the model\n",
    "model.save('mango_ripeness_mobilenetv2.h5')\n"
   ]
  },
  {
   "cell_type": "code",
   "execution_count": null,
   "metadata": {
    "execution": {
     "iopub.execute_input": "2024-12-18T13:53:46.472940Z",
     "iopub.status.busy": "2024-12-18T13:53:46.472578Z",
     "iopub.status.idle": "2024-12-18T13:53:50.295056Z",
     "shell.execute_reply": "2024-12-18T13:53:50.294294Z",
     "shell.execute_reply.started": "2024-12-18T13:53:46.472910Z"
    },
    "trusted": true
   },
   "outputs": [],
   "source": [
    "# Load the saved model\n",
    "model = tf.keras.models.load_model('mango_ripeness_mobilenetv2.h5')\n",
    "\n",
    "# Test with a single image\n",
    "from tensorflow.keras.preprocessing.image import load_img, img_to_array\n",
    "\n",
    "# Path to the test image\n",
    "test_image_path = '/kaggle/input/ripeness-detection-of-mango/Stage_0 (Unripe)/Test/IMG20200713142258.jpg'\n",
    "\n",
    "# Preprocess the test image\n",
    "image = load_img(test_image_path, target_size=IMG_SIZE)\n",
    "image_array = img_to_array(image) / 255.0\n",
    "image_array = np.expand_dims(image_array, axis=0)\n",
    "\n",
    "# Predict ripeness stage\n",
    "prediction = model.predict(image_array)\n",
    "predicted_class = np.argmax(prediction)\n",
    "class_labels = list(train_generator.class_indices.keys())\n",
    "\n",
    "print(f\"Predicted Class: {class_labels[predicted_class]}\")\n"
   ]
  },
  {
   "cell_type": "code",
   "execution_count": null,
   "metadata": {
    "trusted": true
   },
   "outputs": [],
   "source": [
    "converter = tf.lite.TFLiteConverter.from_saved_model('mango_ripeness_mobilenetv2.h5')\n",
    "tflite_model = converter.convert()\n",
    "with open('mango_ripeness_model.tflite', 'wb') as f:\n",
    "    f.write(tflite_model)\n"
   ]
  },
  {
   "cell_type": "code",
   "execution_count": null,
   "metadata": {
    "trusted": true
   },
   "outputs": [],
   "source": []
  },
  {
   "cell_type": "code",
   "execution_count": null,
   "metadata": {
    "trusted": true
   },
   "outputs": [],
   "source": []
  },
  {
   "cell_type": "code",
   "execution_count": null,
   "metadata": {
    "trusted": true
   },
   "outputs": [],
   "source": []
  },
  {
   "cell_type": "code",
   "execution_count": null,
   "metadata": {
    "trusted": true
   },
   "outputs": [],
   "source": []
  }
 ],
 "metadata": {
  "kaggle": {
   "accelerator": "nvidiaTeslaT4",
   "dataSources": [
    {
     "datasetId": 3743003,
     "sourceId": 6478875,
     "sourceType": "datasetVersion"
    }
   ],
   "dockerImageVersionId": 30805,
   "isGpuEnabled": true,
   "isInternetEnabled": true,
   "language": "python",
   "sourceType": "notebook"
  },
  "kernelspec": {
   "display_name": "torch",
   "language": "python",
   "name": "python3"
  },
  "language_info": {
   "codemirror_mode": {
    "name": "ipython",
    "version": 3
   },
   "file_extension": ".py",
   "mimetype": "text/x-python",
   "name": "python",
   "nbconvert_exporter": "python",
   "pygments_lexer": "ipython3",
   "version": "3.12.8"
  }
 },
 "nbformat": 4,
 "nbformat_minor": 4
}
